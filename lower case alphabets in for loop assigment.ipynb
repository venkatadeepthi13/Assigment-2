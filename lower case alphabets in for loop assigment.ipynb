{
 "cells": [
  {
   "cell_type": "code",
   "execution_count": null,
   "id": "ebfde375",
   "metadata": {},
   "outputs": [],
   "source": [
    "#Create a python program to print lower & upper case alphabets with looping concepts (while loop and for loop)\n",
    "#Create a python program to print lower alphabets with for loop"
   ]
  },
  {
   "cell_type": "code",
   "execution_count": 2,
   "id": "ec922f7a",
   "metadata": {},
   "outputs": [
    {
     "name": "stdout",
     "output_type": "stream",
     "text": [
      " #######\n",
      "#       #\n",
      "#       #\n",
      "#       #\n",
      "#       #\n",
      " #######\n",
      "         #\n"
     ]
    }
   ],
   "source": [
    "for x in range(1,8):\n",
    "    if x==1 or x==6:\n",
    "        print(' #######')\n",
    "    elif x==2 or x==3:\n",
    "        print('#       #')\n",
    "    elif x==4:\n",
    "        print('#       #')\n",
    "    elif x==5:\n",
    "        print('#       #')\n",
    "    elif x==7:\n",
    "        print('         #')\n",
    "    else:\n",
    "        print('           #')"
   ]
  },
  {
   "cell_type": "code",
   "execution_count": 3,
   "id": "c21bb5e7",
   "metadata": {},
   "outputs": [
    {
     "name": "stdout",
     "output_type": "stream",
     "text": [
      "#\n",
      "#\n",
      "#\n",
      "#######\n",
      "#     #\n",
      "#     #\n",
      "#######\n"
     ]
    }
   ],
   "source": [
    "for x in range(1,8):\n",
    "    if x==4 or x==7:\n",
    "        print('#######')\n",
    "    elif x==5 or x==6:\n",
    "        print(\"#     #\")\n",
    "    else:\n",
    "        print('#')"
   ]
  },
  {
   "cell_type": "code",
   "execution_count": 4,
   "id": "9f6ba166",
   "metadata": {},
   "outputs": [
    {
     "name": "stdout",
     "output_type": "stream",
     "text": [
      "#######\n",
      "#\n",
      "#\n",
      "#\n",
      "#\n",
      "#\n",
      "#######\n"
     ]
    }
   ],
   "source": [
    "for x in range(1,8):\n",
    "    if x==1 or x==7:\n",
    "        print('#######')\n",
    "    else:\n",
    "        print('#')"
   ]
  },
  {
   "cell_type": "code",
   "execution_count": 5,
   "id": "02bda54a",
   "metadata": {},
   "outputs": [
    {
     "name": "stdout",
     "output_type": "stream",
     "text": [
      "      #\n",
      "      #\n",
      "      #\n",
      "#######\n",
      "#     #\n",
      "#     #\n",
      "#######\n"
     ]
    }
   ],
   "source": [
    "for x in range(1,8):\n",
    "    if x==4 or x==7:\n",
    "        print('#######')\n",
    "    elif x==5 or x==6:\n",
    "        print(\"#     #\")\n",
    "    else:\n",
    "        print('      #')"
   ]
  },
  {
   "cell_type": "code",
   "execution_count": 8,
   "id": "ba0aa2ba",
   "metadata": {},
   "outputs": [
    {
     "name": "stdout",
     "output_type": "stream",
     "text": [
      " ####### \n",
      "#       #\n",
      "#       #\n",
      "########\n",
      "#\n",
      "#\n",
      " ####### \n"
     ]
    }
   ],
   "source": [
    "for x in range(1,8):\n",
    "    if x==1 or x==7:\n",
    "        print(' ####### ')\n",
    "    elif x==2 or x==3:\n",
    "        print(\"#       #\")\n",
    "    elif x==4:\n",
    "        print('########')\n",
    "    else:\n",
    "        print('#')\n",
    "    "
   ]
  },
  {
   "cell_type": "code",
   "execution_count": 11,
   "id": "38bd4d27",
   "metadata": {},
   "outputs": [
    {
     "name": "stdout",
     "output_type": "stream",
     "text": [
      "   ###### \n",
      "  #      #\n",
      "  #\n",
      "  #\n",
      "#####\n",
      "  #\n",
      "  #\n",
      "  #\n"
     ]
    }
   ],
   "source": [
    "for x in range(1,9):\n",
    "    if x==1:\n",
    "        print('   ###### ')\n",
    "    elif x==5:\n",
    "        print(\"#####\")\n",
    "    elif x==2 :\n",
    "        print('  #      #')\n",
    "    else:\n",
    "        print('  #')"
   ]
  },
  {
   "cell_type": "code",
   "execution_count": 12,
   "id": "44f8d90c",
   "metadata": {},
   "outputs": [
    {
     "name": "stdout",
     "output_type": "stream",
     "text": [
      "#######\n",
      "#     #\n",
      "#     #\n",
      "#######\n",
      "      #\n",
      "      #\n",
      "#     #\n",
      "#######\n"
     ]
    }
   ],
   "source": [
    "for x in range(1,9):\n",
    "    if x==1 or x==4:\n",
    "        print('#######')\n",
    "    elif x==2 or x==3:\n",
    "        print(\"#     #\")\n",
    "    elif x==5 or x==6:\n",
    "        print('      #')\n",
    "    elif x==7:\n",
    "        print('#     #')\n",
    "    else:\n",
    "        print('#######')"
   ]
  },
  {
   "cell_type": "code",
   "execution_count": 14,
   "id": "675e7da5",
   "metadata": {},
   "outputs": [
    {
     "name": "stdout",
     "output_type": "stream",
     "text": [
      "#\n",
      "#\n",
      "#\n",
      "#######\n",
      "#     #\n",
      "#     #\n",
      "#     #\n"
     ]
    }
   ],
   "source": [
    "for x in range(1,8):\n",
    "    if x==1 or x==2 or x==3:\n",
    "        print('#')\n",
    "    elif x==4:\n",
    "        print('#######')\n",
    "    else:\n",
    "        print('#     #')\n",
    "    x=x+1"
   ]
  },
  {
   "cell_type": "code",
   "execution_count": 16,
   "id": "1c74d53b",
   "metadata": {},
   "outputs": [
    {
     "name": "stdout",
     "output_type": "stream",
     "text": [
      "#\n",
      "\n",
      "#\n",
      "#\n",
      "#\n",
      "#\n",
      "#\n"
     ]
    }
   ],
   "source": [
    "for x in range(1,8):\n",
    "    if x==2:\n",
    "        print('')\n",
    "    else:\n",
    "        print('#')\n"
   ]
  },
  {
   "cell_type": "code",
   "execution_count": 17,
   "id": "41fa6fbf",
   "metadata": {},
   "outputs": [
    {
     "name": "stdout",
     "output_type": "stream",
     "text": [
      "     #  \n",
      "\n",
      "     #  \n",
      "     #  \n",
      "#    #\n",
      "#    #\n",
      "######\n"
     ]
    }
   ],
   "source": [
    "for x in range(1,8):\n",
    "    if x==2:\n",
    "        print('')\n",
    "    elif x==7:\n",
    "        print('######')\n",
    "    elif x==6 or x==5:\n",
    "        print('#    #')\n",
    "    else:\n",
    "        print('     #  ')"
   ]
  },
  {
   "cell_type": "code",
   "execution_count": 19,
   "id": "ace4d754",
   "metadata": {},
   "outputs": [
    {
     "name": "stdout",
     "output_type": "stream",
     "text": [
      "#      #\n",
      "#     #\n",
      "#    #\n",
      "# ##\n",
      "#    #\n",
      "#     #\n",
      "#      #\n"
     ]
    }
   ],
   "source": [
    "for x in range(1,8):\n",
    "    if x==1 or x==7:\n",
    "        print('#      #')\n",
    "    elif x==2 or x==6:\n",
    "        print('#     #')\n",
    "    elif x==3 or x==5: \n",
    "        print('#    #')\n",
    "    else:\n",
    "        print('# ##')\n"
   ]
  },
  {
   "cell_type": "code",
   "execution_count": 20,
   "id": "16203898",
   "metadata": {},
   "outputs": [
    {
     "name": "stdout",
     "output_type": "stream",
     "text": [
      "#\n",
      "#\n",
      "#\n",
      "#\n",
      "#\n",
      "#\n",
      "#\n"
     ]
    }
   ],
   "source": [
    "for x in range(1,8):\n",
    "    print('#')"
   ]
  },
  {
   "cell_type": "code",
   "execution_count": 21,
   "id": "de75089b",
   "metadata": {},
   "outputs": [
    {
     "name": "stdout",
     "output_type": "stream",
     "text": [
      "   ###    ###\n",
      "#       #       #\n",
      "#       #       #\n",
      "#       #       #\n",
      "#       #       #\n",
      "#       #       #\n"
     ]
    }
   ],
   "source": [
    "for x in range(1,7):\n",
    "    if x==1:\n",
    "        print('   ###    ###')\n",
    "    else:\n",
    "        print('#       #       #')"
   ]
  },
  {
   "cell_type": "code",
   "execution_count": 22,
   "id": "5f25fe10",
   "metadata": {},
   "outputs": [
    {
     "name": "stdout",
     "output_type": "stream",
     "text": [
      "   ###  \n",
      "#      #\n",
      "#      #\n",
      "#      #\n",
      "#      #\n",
      "#      #\n"
     ]
    }
   ],
   "source": [
    "for x in range(1,7):\n",
    "    if x==1:\n",
    "        print('   ###  ')\n",
    "    else:\n",
    "        print('#      #')"
   ]
  },
  {
   "cell_type": "code",
   "execution_count": 23,
   "id": "63bc96d6",
   "metadata": {},
   "outputs": [
    {
     "name": "stdout",
     "output_type": "stream",
     "text": [
      " ####### \n",
      "#       #\n",
      "#       #\n",
      "#       #\n",
      "#       #\n",
      " ####### \n"
     ]
    }
   ],
   "source": [
    "for x in range(1,7):\n",
    "    if x==1 or x==6:\n",
    "        print(' ####### ')\n",
    "    else:\n",
    "        print('#       #')"
   ]
  },
  {
   "cell_type": "code",
   "execution_count": 25,
   "id": "e43b7521",
   "metadata": {},
   "outputs": [
    {
     "name": "stdout",
     "output_type": "stream",
     "text": [
      "######## \n",
      "#       #\n",
      "#       #\n",
      "######## \n",
      "#\n",
      "#\n",
      "#\n",
      "#\n"
     ]
    }
   ],
   "source": [
    "for x in range(1,9):\n",
    "    if x==1 or x==4:\n",
    "        print('######## ')\n",
    "    elif x==2 or x==3:\n",
    "        print('#       #')\n",
    "    else:\n",
    "        print('#')"
   ]
  },
  {
   "cell_type": "code",
   "execution_count": 26,
   "id": "0a1e87ac",
   "metadata": {},
   "outputs": [
    {
     "name": "stdout",
     "output_type": "stream",
     "text": [
      "#######\n",
      "#     #\n",
      "#     #\n",
      "#######\n",
      "      #  #\n",
      "      #  #\n",
      "      ##\n"
     ]
    }
   ],
   "source": [
    "for x in range(1,8):\n",
    "    if x==1 or x==4:\n",
    "        print('#######')\n",
    "    elif x==2 or x==3:\n",
    "        print(\"#     #\")\n",
    "    elif x==4:\n",
    "        print('      #')\n",
    "    elif x==5 or x==6:\n",
    "        print('      #  #')\n",
    "    else:\n",
    "        print('      ##')"
   ]
  },
  {
   "cell_type": "code",
   "execution_count": 28,
   "id": "66f98b2c",
   "metadata": {},
   "outputs": [
    {
     "name": "stdout",
     "output_type": "stream",
     "text": [
      "#\n",
      "#   #\n",
      "# #\n",
      "##\n",
      "##\n",
      "##\n",
      "##\n"
     ]
    }
   ],
   "source": [
    "for x in range(1,8):\n",
    "    if x==2:\n",
    "        print('#   #')\n",
    "    elif x==1:\n",
    "        print('#')\n",
    "    elif x==3:\n",
    "        print('# #')\n",
    "    else:\n",
    "        print('##')"
   ]
  },
  {
   "cell_type": "code",
   "execution_count": 30,
   "id": "f6fef191",
   "metadata": {},
   "outputs": [
    {
     "name": "stdout",
     "output_type": "stream",
     "text": [
      " ####### \n",
      "#\n",
      "#\n",
      " ####### \n",
      "        #\n",
      "        #\n",
      " ####### \n"
     ]
    }
   ],
   "source": [
    "for x in range(1,8):\n",
    "    if x==1 or x==4 or x==7:\n",
    "        print(' ####### ')\n",
    "    elif x==2 or x==3:\n",
    "        print('#')\n",
    "    else:\n",
    "        print('        #')"
   ]
  },
  {
   "cell_type": "code",
   "execution_count": 31,
   "id": "4b23ea02",
   "metadata": {},
   "outputs": [
    {
     "name": "stdout",
     "output_type": "stream",
     "text": [
      "   #   \n",
      "   #   \n",
      "   #   \n",
      " ######  \n",
      "   #   \n",
      "   #   \n",
      "   #######\n"
     ]
    }
   ],
   "source": [
    "for x in range(1,8):\n",
    "    if x==7:\n",
    "        print('   #######')\n",
    "    elif x==4:\n",
    "        print(' ######  ')\n",
    "    else:\n",
    "        print('   #   ')"
   ]
  },
  {
   "cell_type": "code",
   "execution_count": 32,
   "id": "281a6e1c",
   "metadata": {},
   "outputs": [
    {
     "name": "stdout",
     "output_type": "stream",
     "text": [
      "#     #\n",
      "#     #\n",
      "#     #\n",
      "#     #\n",
      "#     #\n",
      "#######\n"
     ]
    }
   ],
   "source": [
    "for x in range(1,7):\n",
    "    if  x==6:\n",
    "        print('#######')\n",
    "    else:\n",
    "        print('#     #')"
   ]
  },
  {
   "cell_type": "code",
   "execution_count": 33,
   "id": "2e8ca3f0",
   "metadata": {},
   "outputs": [
    {
     "name": "stdout",
     "output_type": "stream",
     "text": [
      "#       #\n",
      " #     #\n",
      "  #   #\n",
      "   # #\n",
      "    #\n"
     ]
    }
   ],
   "source": [
    "for x in range(1,6):\n",
    "    if x==1:\n",
    "        print('#       #')\n",
    "    elif x==2:\n",
    "        print(' #     #')\n",
    "    elif x==3:\n",
    "        print('  #   #')\n",
    "    elif x==4:\n",
    "        print('   # #')\n",
    "    else:\n",
    "        print('    #')"
   ]
  },
  {
   "cell_type": "code",
   "execution_count": 34,
   "id": "4f71c3ec",
   "metadata": {},
   "outputs": [
    {
     "name": "stdout",
     "output_type": "stream",
     "text": [
      "#       #       #\n",
      "#       #       #\n",
      "#       #       #\n",
      "#       #       #\n",
      "#       #       #\n",
      "   ###    ###\n"
     ]
    }
   ],
   "source": [
    "for x in range(1,7):\n",
    "    if x==6:\n",
    "        print('   ###    ###')\n",
    "    else:\n",
    "        print('#       #       #')\n"
   ]
  },
  {
   "cell_type": "code",
   "execution_count": 36,
   "id": "d6a4ecfb",
   "metadata": {},
   "outputs": [
    {
     "name": "stdout",
     "output_type": "stream",
     "text": [
      "#     #\n",
      " #   # \n",
      "   #   \n",
      " #   # \n",
      "#     #\n"
     ]
    }
   ],
   "source": [
    "for x in range(1,6):\n",
    "    if x==1 or x==5:\n",
    "        print('#     #')\n",
    "    elif x==2 or x==4:\n",
    "        print(' #   # ')\n",
    "    else:\n",
    "        print('   #   ')"
   ]
  },
  {
   "cell_type": "code",
   "execution_count": 37,
   "id": "f8ce947e",
   "metadata": {},
   "outputs": [
    {
     "name": "stdout",
     "output_type": "stream",
     "text": [
      "#     #\n",
      "#     #\n",
      "#     #\n",
      "#######\n",
      "      #\n",
      "      #\n",
      "#     #\n",
      "#######\n"
     ]
    }
   ],
   "source": [
    "for x in range(1,9):\n",
    "    if x==1 or x==2 or x==3:\n",
    "        print(\"#     #\")\n",
    "    elif x==5 or x==6:\n",
    "        print('      #')\n",
    "    elif x==7:\n",
    "        print('#     #')\n",
    "    else:\n",
    "        print('#######')\n",
    "    x=x+1"
   ]
  },
  {
   "cell_type": "code",
   "execution_count": 38,
   "id": "2915ec96",
   "metadata": {},
   "outputs": [
    {
     "name": "stdout",
     "output_type": "stream",
     "text": [
      "#######\n",
      "      #\n",
      "    #\n",
      "  #\n",
      " #\n",
      "#######\n"
     ]
    }
   ],
   "source": [
    "for x in range(1,7):\n",
    "    if x==1 or x==6:\n",
    "        print('#######')\n",
    "    elif x==2:\n",
    "        print('      #')\n",
    "    elif x==3:\n",
    "        print('    #')\n",
    "    elif x==4:\n",
    "        print('  #')\n",
    "    else:\n",
    "        print(' #')"
   ]
  },
  {
   "cell_type": "code",
   "execution_count": null,
   "id": "57c4cbdb",
   "metadata": {},
   "outputs": [],
   "source": []
  }
 ],
 "metadata": {
  "kernelspec": {
   "display_name": "Python 3 (ipykernel)",
   "language": "python",
   "name": "python3"
  },
  "language_info": {
   "codemirror_mode": {
    "name": "ipython",
    "version": 3
   },
   "file_extension": ".py",
   "mimetype": "text/x-python",
   "name": "python",
   "nbconvert_exporter": "python",
   "pygments_lexer": "ipython3",
   "version": "3.9.7"
  }
 },
 "nbformat": 4,
 "nbformat_minor": 5
}
