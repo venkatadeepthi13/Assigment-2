{
 "cells": [
  {
   "cell_type": "code",
   "execution_count": null,
   "id": "83bfba12",
   "metadata": {},
   "outputs": [],
   "source": [
    "#Create a python program to print lower & upper case alphabets with looping concepts (while loop and for loop)\n",
    "#Create a python program to print upper case alphabets with for loop\n"
   ]
  },
  {
   "cell_type": "code",
   "execution_count": 2,
   "id": "4a123f87",
   "metadata": {},
   "outputs": [
    {
     "name": "stdout",
     "output_type": "stream",
     "text": [
      "#####\n",
      "#   #\n",
      "# # #\n",
      "#   #\n",
      "#   #\n"
     ]
    }
   ],
   "source": [
    "for x in range(1,6):\n",
    "    if x==1:\n",
    "        print('#####')\n",
    "    elif x==2 or x==4 or x==5:\n",
    "        print('#   #')\n",
    "    else:\n",
    "        print('# # #')"
   ]
  },
  {
   "cell_type": "code",
   "execution_count": 3,
   "id": "3dc0c392",
   "metadata": {},
   "outputs": [
    {
     "name": "stdout",
     "output_type": "stream",
     "text": [
      "#######\n",
      "#      #\n",
      "#      #\n",
      "#  #  #\n",
      "#      #\n",
      "#      #\n",
      "#######\n"
     ]
    }
   ],
   "source": [
    "for x in range(1,8):\n",
    "    if x==1 or x==7:\n",
    "        print('#######')\n",
    "    elif x==2 or x==3 or x==5 or x==6:\n",
    "        print('#      #')\n",
    "    else:\n",
    "        print('#  #  #')"
   ]
  },
  {
   "cell_type": "code",
   "execution_count": 4,
   "id": "d2401f89",
   "metadata": {},
   "outputs": [
    {
     "name": "stdout",
     "output_type": "stream",
     "text": [
      "#######\n",
      "#\n",
      "#\n",
      "#\n",
      "#\n",
      "#\n",
      "#######\n"
     ]
    }
   ],
   "source": [
    "for x in range(1,8):\n",
    "    if x==1 or x==7:\n",
    "        print('#######')\n",
    "    else:\n",
    "        print('#')"
   ]
  },
  {
   "cell_type": "code",
   "execution_count": 5,
   "id": "bf49ce11",
   "metadata": {},
   "outputs": [
    {
     "name": "stdout",
     "output_type": "stream",
     "text": [
      "#######\n",
      "#      #\n",
      "#      #\n",
      "#      #\n",
      "#      #\n",
      "#      #\n",
      "#######\n"
     ]
    }
   ],
   "source": [
    "for x in range(1,8):\n",
    "    if x==1 or x==7:\n",
    "        print('#######')\n",
    "    else:\n",
    "        print('#      #')"
   ]
  },
  {
   "cell_type": "code",
   "execution_count": 6,
   "id": "4e5cba31",
   "metadata": {},
   "outputs": [
    {
     "name": "stdout",
     "output_type": "stream",
     "text": [
      "######\n",
      "#\n",
      "#\n",
      "######\n",
      "#\n",
      "#\n",
      "######\n"
     ]
    }
   ],
   "source": [
    "for x in range(1,8):\n",
    "    if x==1 or x==4 or x==7:\n",
    "        print('######')\n",
    "    else:\n",
    "        print('#')"
   ]
  },
  {
   "cell_type": "code",
   "execution_count": 7,
   "id": "a92436b7",
   "metadata": {},
   "outputs": [
    {
     "name": "stdout",
     "output_type": "stream",
     "text": [
      "#######\n",
      "#\n",
      "#\n",
      "#######\n",
      "#\n",
      "#\n",
      "#\n"
     ]
    }
   ],
   "source": [
    "for x in range(1,8):\n",
    "    if x==1 or x==4:\n",
    "        print('#######')\n",
    "    else:\n",
    "        print('#')"
   ]
  },
  {
   "cell_type": "code",
   "execution_count": 8,
   "id": "01b3e4b5",
   "metadata": {},
   "outputs": [
    {
     "name": "stdout",
     "output_type": "stream",
     "text": [
      "#######\n",
      "#\n",
      "#  ####\n",
      "#     #\n",
      "#######\n"
     ]
    }
   ],
   "source": [
    "for x in range(1,6):\n",
    "    if x==1 or x==5:\n",
    "        print('#######')\n",
    "    elif x==3:\n",
    "        print('#  ####')\n",
    "    elif x==4:\n",
    "        print('#     #')\n",
    "    else:\n",
    "        print('#')"
   ]
  },
  {
   "cell_type": "code",
   "execution_count": 9,
   "id": "c87d0076",
   "metadata": {},
   "outputs": [
    {
     "name": "stdout",
     "output_type": "stream",
     "text": [
      "#        #\n",
      "#        #\n",
      "#        #\n",
      "##########\n",
      "#        #\n",
      "#        #\n",
      "#        #\n"
     ]
    }
   ],
   "source": [
    "for x in range(1,8):\n",
    "    if x==4:\n",
    "        print('##########')\n",
    "    else:\n",
    "        print('#        #')"
   ]
  },
  {
   "cell_type": "code",
   "execution_count": 10,
   "id": "2716e9d2",
   "metadata": {},
   "outputs": [
    {
     "name": "stdout",
     "output_type": "stream",
     "text": [
      "#######\n",
      "   #    \n",
      "   #    \n",
      "   #    \n",
      "   #    \n",
      "   #    \n",
      "#######\n"
     ]
    }
   ],
   "source": [
    "for x in range(1,8):\n",
    "    if x==1 or x==7:\n",
    "        print('#######')\n",
    "    else:\n",
    "        print('   #    ')"
   ]
  },
  {
   "cell_type": "code",
   "execution_count": 11,
   "id": "9192624c",
   "metadata": {},
   "outputs": [
    {
     "name": "stdout",
     "output_type": "stream",
     "text": [
      "#########\n",
      "     #  \n",
      "     #  \n",
      "     #  \n",
      "#    #\n",
      "#    #\n",
      "######\n"
     ]
    }
   ],
   "source": [
    "for x in range(1,8):\n",
    "    if x==1:\n",
    "        print('#########')\n",
    "    elif x==7:\n",
    "        print('######')\n",
    "    elif x==6 or x==5:\n",
    "        print('#    #')\n",
    "    else:\n",
    "        print('     #  ')"
   ]
  },
  {
   "cell_type": "code",
   "execution_count": 12,
   "id": "dc8a6399",
   "metadata": {},
   "outputs": [
    {
     "name": "stdout",
     "output_type": "stream",
     "text": [
      "#      #\n",
      "#     #\n",
      "#    #\n",
      "# ##\n",
      "#    #\n",
      "#     #\n",
      "#      #\n"
     ]
    }
   ],
   "source": [
    "for x in range(1,8):\n",
    "    if x==1 or x==7:\n",
    "        print('#      #')\n",
    "    elif x==2 or x==6:\n",
    "        print('#     #')\n",
    "    elif x==3 or x==5: \n",
    "        print('#    #')\n",
    "    else:\n",
    "        print('# ##')"
   ]
  },
  {
   "cell_type": "code",
   "execution_count": 13,
   "id": "28f6202b",
   "metadata": {},
   "outputs": [
    {
     "name": "stdout",
     "output_type": "stream",
     "text": [
      "#\n",
      "#\n",
      "#\n",
      "#\n",
      "#\n",
      "#\n",
      "#######\n"
     ]
    }
   ],
   "source": [
    "for x in range(1,8):\n",
    "    if x==7:\n",
    "        print('#######')\n",
    "    else:\n",
    "        print('#')"
   ]
  },
  {
   "cell_type": "code",
   "execution_count": 14,
   "id": "fd78a231",
   "metadata": {},
   "outputs": [
    {
     "name": "stdout",
     "output_type": "stream",
     "text": [
      "##     ##\n",
      "#  # #  #\n",
      "#   #   #\n",
      "#       #\n",
      "#       #\n",
      "#       #\n"
     ]
    }
   ],
   "source": [
    "for x in range(1,7):\n",
    "    if x==1:\n",
    "        print('##     ##')\n",
    "    elif x==2:\n",
    "        print('#  # #  #')\n",
    "    elif x==3:\n",
    "        print('#   #   #')\n",
    "    else:\n",
    "        print('#       #')"
   ]
  },
  {
   "cell_type": "code",
   "execution_count": 18,
   "id": "0269860d",
   "metadata": {},
   "outputs": [
    {
     "name": "stdout",
     "output_type": "stream",
     "text": [
      "#      #\n",
      "##     #\n",
      "# #    #\n",
      "#  #   #\n",
      "#   #  #\n",
      "#    # #\n"
     ]
    }
   ],
   "source": [
    "for x in range(1,7):\n",
    "    if x==1 :\n",
    "        print('#      #')\n",
    "    elif x==2:\n",
    "        print('##     #')\n",
    "    elif x==3:\n",
    "        print('# #    #')\n",
    "    elif x==4:\n",
    "        print('#  #   #')\n",
    "    elif x==5:\n",
    "        print('#   #  #')\n",
    "    else:\n",
    "        print('#    # #')"
   ]
  },
  {
   "cell_type": "code",
   "execution_count": 19,
   "id": "01fb0d40",
   "metadata": {},
   "outputs": [
    {
     "name": "stdout",
     "output_type": "stream",
     "text": [
      " ####### \n",
      "#       #\n",
      "#       #\n",
      "#       #\n",
      "#       #\n",
      " ####### \n"
     ]
    }
   ],
   "source": [
    "for x in range(1,7):\n",
    "    if x==1 or x==6:\n",
    "        print(' ####### ')\n",
    "    else:\n",
    "        print('#       #')\n"
   ]
  },
  {
   "cell_type": "code",
   "execution_count": 20,
   "id": "5cc68b29",
   "metadata": {},
   "outputs": [
    {
     "name": "stdout",
     "output_type": "stream",
     "text": [
      "######## \n",
      "#       #\n",
      "#       #\n",
      "######## \n",
      "#\n",
      "#\n",
      "#\n",
      "#\n"
     ]
    }
   ],
   "source": [
    "for x in range(1,9):\n",
    "    if x==1 or x==4:\n",
    "        print('######## ')\n",
    "    elif x==2 or x==3:\n",
    "        print('#       #')\n",
    "    else:\n",
    "        print('#')"
   ]
  },
  {
   "cell_type": "code",
   "execution_count": 21,
   "id": "a604557d",
   "metadata": {},
   "outputs": [
    {
     "name": "stdout",
     "output_type": "stream",
     "text": [
      " ####### \n",
      "#       #\n",
      "#       #\n",
      "#  #    #\n",
      "#    #  #\n",
      " ####### \n",
      "         #\n",
      "           #\n"
     ]
    }
   ],
   "source": [
    "for x in range(1,9):\n",
    "    if x==1 or x==6:\n",
    "        print(' ####### ')\n",
    "    elif x==2 or x==3:\n",
    "        print('#       #')\n",
    "    elif x==4:\n",
    "        print('#  #    #')\n",
    "    elif x==5:\n",
    "        print('#    #  #')\n",
    "    elif x==7:\n",
    "        print('         #')\n",
    "    else:\n",
    "        print('           #')"
   ]
  },
  {
   "cell_type": "code",
   "execution_count": 22,
   "id": "3043c711",
   "metadata": {},
   "outputs": [
    {
     "name": "stdout",
     "output_type": "stream",
     "text": [
      "########\n",
      "#       #\n",
      "#       #\n",
      "########\n",
      "# #\n",
      "#   #\n",
      "#    #\n",
      "#     #\n"
     ]
    }
   ],
   "source": [
    "for x in range(1,9):\n",
    "    if x==1 or x==4:\n",
    "        print('########')\n",
    "    elif x==2 or x==3:\n",
    "        print('#       #')\n",
    "    elif x==5:\n",
    "        print('# #')\n",
    "    elif x==6:\n",
    "        print('#   #')\n",
    "    elif x==7:\n",
    "        print('#    #')\n",
    "    else:\n",
    "        print('#     #')"
   ]
  },
  {
   "cell_type": "code",
   "execution_count": 23,
   "id": "df360233",
   "metadata": {},
   "outputs": [
    {
     "name": "stdout",
     "output_type": "stream",
     "text": [
      "#######\n",
      "#\n",
      "#\n",
      "#######\n",
      "      #\n",
      "      #\n",
      "#######\n"
     ]
    }
   ],
   "source": [
    "for x in range(1,8):\n",
    "    if x==1 or x==4 or x==7:\n",
    "        print('#######')\n",
    "    elif x==2 or x==3:\n",
    "        print('#')\n",
    "    else:\n",
    "        print('      #')"
   ]
  },
  {
   "cell_type": "code",
   "execution_count": 24,
   "id": "fae16f52",
   "metadata": {},
   "outputs": [
    {
     "name": "stdout",
     "output_type": "stream",
     "text": [
      "#########\n",
      "    #    \n",
      "    #    \n",
      "    #    \n",
      "    #    \n",
      "    #    \n",
      "    #    \n"
     ]
    }
   ],
   "source": [
    "for x in range(1,8):\n",
    "    if x==1:\n",
    "        print('#########')\n",
    "    else:\n",
    "        print('    #    ')"
   ]
  },
  {
   "cell_type": "code",
   "execution_count": 25,
   "id": "e25647cb",
   "metadata": {},
   "outputs": [
    {
     "name": "stdout",
     "output_type": "stream",
     "text": [
      "#     #\n",
      "#     #\n",
      "#     #\n",
      "#     #\n",
      "#     #\n",
      "#######\n"
     ]
    }
   ],
   "source": [
    "for x in range(1,7):\n",
    "    if  x==6:\n",
    "        print('#######')\n",
    "    else:\n",
    "        print('#     #')"
   ]
  },
  {
   "cell_type": "code",
   "execution_count": 27,
   "id": "f70d7c99",
   "metadata": {},
   "outputs": [
    {
     "name": "stdout",
     "output_type": "stream",
     "text": [
      "#       #\n",
      " #     #\n",
      "  #   #\n",
      "   # #\n",
      "    #\n"
     ]
    }
   ],
   "source": [
    "for x in range(1,6):\n",
    "    if x==1:\n",
    "        print('#       #')\n",
    "    elif x==2:\n",
    "        print(' #     #')\n",
    "    elif x==3:\n",
    "        print('  #   #')\n",
    "    elif x==4:\n",
    "        print('   # #')\n",
    "    else:\n",
    "        print('    #')"
   ]
  },
  {
   "cell_type": "code",
   "execution_count": 28,
   "id": "dd63d896",
   "metadata": {},
   "outputs": [
    {
     "name": "stdout",
     "output_type": "stream",
     "text": [
      "#       #\n",
      "#   #   #\n",
      "#  # #  #\n",
      "# #   # #\n",
      "##     ##\n"
     ]
    }
   ],
   "source": [
    "for x in range(1,6):\n",
    "    if x==1:\n",
    "        print('#       #')\n",
    "    elif x==2:\n",
    "        print('#   #   #')\n",
    "    elif x==3:\n",
    "        print('#  # #  #')\n",
    "    elif x==4:\n",
    "        print('# #   # #')\n",
    "    else:\n",
    "        print('##     ##')"
   ]
  },
  {
   "cell_type": "code",
   "execution_count": 29,
   "id": "cb7c0f2a",
   "metadata": {},
   "outputs": [
    {
     "name": "stdout",
     "output_type": "stream",
     "text": [
      "#     #\n",
      " #   # \n",
      "   #   \n",
      " #   # \n",
      "#     #\n"
     ]
    }
   ],
   "source": [
    "for x in range(1,6):\n",
    "    if x==1 or x==5:\n",
    "        print('#     #')\n",
    "    elif x==2 or x==4:\n",
    "        print(' #   # ')\n",
    "    else:\n",
    "        print('   #   ')"
   ]
  },
  {
   "cell_type": "code",
   "execution_count": 30,
   "id": "3f02c1f6",
   "metadata": {},
   "outputs": [
    {
     "name": "stdout",
     "output_type": "stream",
     "text": [
      "#       #\n",
      " #     #\n",
      "  #   #\n",
      "   # #\n",
      "    #\n",
      "    #\n",
      "    #\n",
      "    #\n"
     ]
    }
   ],
   "source": [
    "for x in range(1,9):\n",
    "    if x==1:\n",
    "        print('#       #')\n",
    "    elif x==2:\n",
    "        print(' #     #')\n",
    "    elif x==3:\n",
    "        print('  #   #')\n",
    "    elif x==4:\n",
    "        print('   # #')\n",
    "    elif x==5:\n",
    "        print('    #')\n",
    "    else:\n",
    "        print('    #')"
   ]
  },
  {
   "cell_type": "code",
   "execution_count": 31,
   "id": "73f29337",
   "metadata": {},
   "outputs": [
    {
     "name": "stdout",
     "output_type": "stream",
     "text": [
      "#######\n",
      "      #\n",
      "    #\n",
      "  #\n",
      " #\n",
      "#######\n"
     ]
    }
   ],
   "source": [
    "for x in range(1,7):\n",
    "    if x==1 or x==6:\n",
    "        print('#######')\n",
    "    elif x==2:\n",
    "        print('      #')\n",
    "    elif x==3:\n",
    "        print('    #')\n",
    "    elif x==4:\n",
    "        print('  #')\n",
    "    else:\n",
    "        print(' #')"
   ]
  },
  {
   "cell_type": "code",
   "execution_count": null,
   "id": "6dac1d56",
   "metadata": {},
   "outputs": [],
   "source": []
  }
 ],
 "metadata": {
  "kernelspec": {
   "display_name": "Python 3 (ipykernel)",
   "language": "python",
   "name": "python3"
  },
  "language_info": {
   "codemirror_mode": {
    "name": "ipython",
    "version": 3
   },
   "file_extension": ".py",
   "mimetype": "text/x-python",
   "name": "python",
   "nbconvert_exporter": "python",
   "pygments_lexer": "ipython3",
   "version": "3.9.7"
  }
 },
 "nbformat": 4,
 "nbformat_minor": 5
}
